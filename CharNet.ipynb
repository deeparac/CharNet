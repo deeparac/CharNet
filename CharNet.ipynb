{
 "cells": [
  {
   "cell_type": "code",
   "execution_count": 1,
   "metadata": {},
   "outputs": [],
   "source": [
    "import pandas as pd\n",
    "import numpy as np\n",
    "\n",
    "train_file = './train.tsv'\n",
    "\n",
    "train = pd.read_csv(train_file, sep='\\t')"
   ]
  },
  {
   "cell_type": "code",
   "execution_count": 2,
   "metadata": {},
   "outputs": [
    {
     "name": "stderr",
     "output_type": "stream",
     "text": [
      "Using TensorFlow backend.\n"
     ]
    }
   ],
   "source": [
    "from sklearn.preprocessing import LabelEncoder\n",
    "from keras.utils import np_utils\n",
    "\n",
    "def categorinizer(df, \n",
    "                  col_lists=[\n",
    "                      'brand_name', \n",
    "                      'general_cat', \n",
    "                      'subcat_1', \n",
    "                      'subcat_2'\n",
    "                  ]):\n",
    "    for col in col_lists:\n",
    "        df[col] = \\\n",
    "            df[col].apply(lambda x: str(x))\n",
    "        encoder = LabelEncoder()\n",
    "        encoder.fit(df[col])\n",
    "        df[col] = encoder.transform(df[col])\n",
    "        del encoder\n",
    "    \n",
    "    return df\n",
    "\n",
    "def split_cat(text):\n",
    "    try: return text.split(\"/\")\n",
    "    except: return (\"No Label\", \"No Label\", \"No Label\")\n",
    "\n",
    "train['general_cat'], train['subcat_1'], train['subcat_2'] = \\\n",
    "    zip(*train['category_name'].apply(lambda x: split_cat(x)))\n",
    "\n",
    "# remove missing values in item description\n",
    "train = train[pd.notnull(train['item_description'])]"
   ]
  },
  {
   "cell_type": "code",
   "execution_count": 5,
   "metadata": {},
   "outputs": [],
   "source": [
    "train['item_description'] = train['name'] + ' ' + train['item_description']\n",
    "train_data = categorinizer(train)\n",
    "train_data = train_data.drop(columns=['name', 'category_name', 'train_id'])"
   ]
  },
  {
   "cell_type": "code",
   "execution_count": 6,
   "metadata": {},
   "outputs": [
    {
     "data": {
      "text/html": [
       "<div>\n",
       "<style scoped>\n",
       "    .dataframe tbody tr th:only-of-type {\n",
       "        vertical-align: middle;\n",
       "    }\n",
       "\n",
       "    .dataframe tbody tr th {\n",
       "        vertical-align: top;\n",
       "    }\n",
       "\n",
       "    .dataframe thead th {\n",
       "        text-align: right;\n",
       "    }\n",
       "</style>\n",
       "<table border=\"1\" class=\"dataframe\">\n",
       "  <thead>\n",
       "    <tr style=\"text-align: right;\">\n",
       "      <th></th>\n",
       "      <th>item_condition_id</th>\n",
       "      <th>brand_name</th>\n",
       "      <th>price</th>\n",
       "      <th>shipping</th>\n",
       "      <th>item_description</th>\n",
       "      <th>general_cat</th>\n",
       "      <th>subcat_1</th>\n",
       "      <th>subcat_2</th>\n",
       "    </tr>\n",
       "  </thead>\n",
       "  <tbody>\n",
       "    <tr>\n",
       "      <th>0</th>\n",
       "      <td>3</td>\n",
       "      <td>4210</td>\n",
       "      <td>10.0</td>\n",
       "      <td>1</td>\n",
       "      <td>MLB Cincinnati Reds T Shirt Size XL MLB Cincin...</td>\n",
       "      <td>6</td>\n",
       "      <td>6</td>\n",
       "      <td>738</td>\n",
       "    </tr>\n",
       "    <tr>\n",
       "      <th>1</th>\n",
       "      <td>3</td>\n",
       "      <td>2843</td>\n",
       "      <td>52.0</td>\n",
       "      <td>0</td>\n",
       "      <td>Razer BlackWidow Chroma Keyboard Razer BlackWi...</td>\n",
       "      <td>1</td>\n",
       "      <td>38</td>\n",
       "      <td>127</td>\n",
       "    </tr>\n",
       "    <tr>\n",
       "      <th>2</th>\n",
       "      <td>1</td>\n",
       "      <td>3536</td>\n",
       "      <td>10.0</td>\n",
       "      <td>1</td>\n",
       "      <td>AVA-VIV Blouse AVA-VIV Blouse Adorable top wit...</td>\n",
       "      <td>2</td>\n",
       "      <td>7</td>\n",
       "      <td>865</td>\n",
       "    </tr>\n",
       "    <tr>\n",
       "      <th>3</th>\n",
       "      <td>1</td>\n",
       "      <td>4210</td>\n",
       "      <td>35.0</td>\n",
       "      <td>1</td>\n",
       "      <td>Leather Horse Statues Leather Horse Statues Ne...</td>\n",
       "      <td>4</td>\n",
       "      <td>65</td>\n",
       "      <td>340</td>\n",
       "    </tr>\n",
       "    <tr>\n",
       "      <th>4</th>\n",
       "      <td>1</td>\n",
       "      <td>4210</td>\n",
       "      <td>44.0</td>\n",
       "      <td>0</td>\n",
       "      <td>24K GOLD plated rose 24K GOLD plated rose Comp...</td>\n",
       "      <td>2</td>\n",
       "      <td>68</td>\n",
       "      <td>486</td>\n",
       "    </tr>\n",
       "  </tbody>\n",
       "</table>\n",
       "</div>"
      ],
      "text/plain": [
       "   item_condition_id  brand_name  price  shipping  \\\n",
       "0                  3        4210   10.0         1   \n",
       "1                  3        2843   52.0         0   \n",
       "2                  1        3536   10.0         1   \n",
       "3                  1        4210   35.0         1   \n",
       "4                  1        4210   44.0         0   \n",
       "\n",
       "                                    item_description  general_cat  subcat_1  \\\n",
       "0  MLB Cincinnati Reds T Shirt Size XL MLB Cincin...            6         6   \n",
       "1  Razer BlackWidow Chroma Keyboard Razer BlackWi...            1        38   \n",
       "2  AVA-VIV Blouse AVA-VIV Blouse Adorable top wit...            2         7   \n",
       "3  Leather Horse Statues Leather Horse Statues Ne...            4        65   \n",
       "4  24K GOLD plated rose 24K GOLD plated rose Comp...            2        68   \n",
       "\n",
       "   subcat_2  \n",
       "0       738  \n",
       "1       127  \n",
       "2       865  \n",
       "3       340  \n",
       "4       486  "
      ]
     },
     "execution_count": 6,
     "metadata": {},
     "output_type": "execute_result"
    }
   ],
   "source": [
    "train_data.head()"
   ]
  },
  {
   "cell_type": "code",
   "execution_count": null,
   "metadata": {},
   "outputs": [],
   "source": []
  },
  {
   "cell_type": "code",
   "execution_count": null,
   "metadata": {},
   "outputs": [],
   "source": []
  }
 ],
 "metadata": {
  "kernelspec": {
   "display_name": "Python 3",
   "language": "python",
   "name": "python3"
  },
  "language_info": {
   "codemirror_mode": {
    "name": "ipython",
    "version": 3
   },
   "file_extension": ".py",
   "mimetype": "text/x-python",
   "name": "python",
   "nbconvert_exporter": "python",
   "pygments_lexer": "ipython3",
   "version": "3.6.3"
  }
 },
 "nbformat": 4,
 "nbformat_minor": 2
}
