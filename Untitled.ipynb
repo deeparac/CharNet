{
 "cells": [
  {
   "cell_type": "code",
   "execution_count": 1,
   "metadata": {},
   "outputs": [
    {
     "ename": "ModuleNotFoundError",
     "evalue": "No module named 'tensorflow'",
     "output_type": "error",
     "traceback": [
      "\u001b[0;31m----------------------------------------------------------------\u001b[0m",
      "\u001b[0;31mModuleNotFoundError\u001b[0m            Traceback (most recent call last)",
      "\u001b[0;32m<ipython-input-1-b8f448c023e7>\u001b[0m in \u001b[0;36m<module>\u001b[0;34m()\u001b[0m\n\u001b[0;32m----> 1\u001b[0;31m \u001b[0;32mimport\u001b[0m \u001b[0mtensorflow\u001b[0m \u001b[0;32mas\u001b[0m \u001b[0mtf\u001b[0m\u001b[0;34m\u001b[0m\u001b[0m\n\u001b[0m\u001b[1;32m      2\u001b[0m \u001b[0;32mimport\u001b[0m \u001b[0mos\u001b[0m\u001b[0;34m,\u001b[0m \u001b[0mtime\u001b[0m\u001b[0;34m,\u001b[0m \u001b[0mdatetime\u001b[0m\u001b[0;34m\u001b[0m\u001b[0m\n\u001b[1;32m      3\u001b[0m \u001b[0;32mimport\u001b[0m \u001b[0mpandas\u001b[0m \u001b[0;32mas\u001b[0m \u001b[0mpd\u001b[0m\u001b[0;34m\u001b[0m\u001b[0m\n\u001b[1;32m      4\u001b[0m \u001b[0;32mimport\u001b[0m \u001b[0mnumpy\u001b[0m \u001b[0;32mas\u001b[0m \u001b[0mnp\u001b[0m\u001b[0;34m\u001b[0m\u001b[0m\n\u001b[1;32m      5\u001b[0m \u001b[0;32mfrom\u001b[0m \u001b[0mCharNet\u001b[0m \u001b[0;32mimport\u001b[0m \u001b[0mCharNet\u001b[0m\u001b[0;34m\u001b[0m\u001b[0m\n",
      "\u001b[0;31mModuleNotFoundError\u001b[0m: No module named 'tensorflow'"
     ]
    }
   ],
   "source": [
    "import tensorflow as tf\n",
    "import os, time, datetime\n",
    "import pandas as pd\n",
    "import numpy as np\n",
    "from CharNet import CharNet\n",
    "from CharNetConfig import CharNetConfig\n",
    "from Data import Data\n",
    "\n",
    "def main(train_file, dev_file, config):\n",
    "    train_data = Data(train_file, config.alstr, is_dev=False)\n",
    "    dev_data = Data(dev_file, config.alstr, is_dev=True)\n",
    "    \n",
    "    with tf.Session() as sess:\n",
    "        charnet = CharNet(config.conv_layers, config.fc_layers, config.l0, config.alphabet_size, train_data.encoder)\n",
    "        \n",
    "        optimizer = tf.train.AdamOptimizer()\n",
    "        grads = optimizer.compute_gradients(charnet.loss)\n",
    "        train_op = optimizer.apply_gradients(grads)\n",
    "\n",
    "        timestamp = str(int(time.time()))\n",
    "        out_dir = os.path.abspath(os.path.join(os.path.curdir, \"runs\", timestamp))\n",
    "        print(\"Writing to {}\\n\".format(out_dir))\n",
    "\n",
    "        # Summaries for loss and accuracy\n",
    "        loss_summary = tf.summary.scalar(\"loss\", charnet.loss)\n",
    "\n",
    "        # Train Summaries\n",
    "        train_summary_op = tf.summary.merge([loss_summary])\n",
    "        train_summary_dir = os.path.join(out_dir, \"summaries\", \"train\")\n",
    "        train_summary_writer = tf.summary.FileWriter(train_summary_dir, sess.graph)\n",
    "\n",
    "        # Checkpoint directory. Tensorflow assumes this directory already exists so we need to create it\n",
    "        checkpoint_dir = os.path.abspath(os.path.join(out_dir, \"checkpoints\"))\n",
    "        checkpoint_prefix = os.path.join(checkpoint_dir, \"model\")\n",
    "        if not os.path.exists(checkpoint_dir):\n",
    "            os.makedirs(checkpoint_dir)\n",
    "        saver = tf.train.Saver(tf.global_variables())\n",
    "\n",
    "        sess.run(tf.global_variables_initializer())\n",
    "\n",
    "        def train_step(num_batch, x_batch, y_batch, step):\n",
    "            \"\"\"\n",
    "            A single training step\n",
    "            \"\"\"\n",
    "            y_batch = np.reshape(y_batch, (-1, 1))\n",
    "            mm = x_batch.tolist()\n",
    "            x_batch = np.array([k.tolist() for k in mm])\n",
    "            \n",
    "            feed_dict = {\n",
    "                charnet.input_num: num_batch,\n",
    "                charnet.input_x: x_batch,\n",
    "                charnet.input_y: y_batch,\n",
    "                charnet.dropout_keep_prob: .5\n",
    "            }\n",
    "\n",
    "            _, summaries, loss = sess.run(\n",
    "                [train_op,\n",
    "                 train_summary_op,\n",
    "                 charnet.loss],\n",
    "                feed_dict\n",
    "            )\n",
    "\n",
    "            print(\"step {}, loss {:g}\".format(step, loss))\n",
    "            train_summary_writer.add_summary(summaries, step)\n",
    "\n",
    "        def predict_on_test(num_batch, x_batch, results):\n",
    "            mm = x_batch.tolist()\n",
    "            x_batch = np.array([k.tolist() for k in mm])\n",
    "            \n",
    "            feed_dict = {\n",
    "                charnet.input_num: num_batch,\n",
    "                charnet.input_x: x_batch,\n",
    "                charnet.dropout_keep_prob: 1.0\n",
    "            }\n",
    "\n",
    "            results.append(sess.run([charnet.yhat], feed_dict))\n",
    "\n",
    "#         for epoch in range(1):\n",
    "#             train_data.shuffling()\n",
    "#             for i in range(int(len(train_data.y)/train_data.batch_size) + 1):\n",
    "#                 input_x, input_num, y = train_data.next_batch(i)\n",
    "#                 train_step(input_num, input_x, y, i)\n",
    "\n",
    "#                 if i % 1000 == 0:\n",
    "#                     path = saver.save(sess, checkpoint_prefix, global_step=i)\n",
    "#                     print(\"Epoch {}, Saved model checkpoint to {}\\n\".format(epoch, path))\n",
    "\n",
    "        results = []\n",
    "        for i in range(int(len(train_data.y)/train_data.batch_size) + 1):\n",
    "            input_x, input_num, _ = dev_data.next_batch(i)\n",
    "            predict_on_test(dev_data.input_num, dev_data.input_x, results)\n",
    "        submission = pd.DataFrame([[i for i in range(len(results))], results], columns=['id', 'price'])\n",
    "        submission.to_csv('./submission.csv')\n",
    "\n",
    "if __name__ == '__main__':\n",
    "    train_file = './train.tsv'\n",
    "    dev_file = './test.tsv'\n",
    "    config = CharNetConfig()\n",
    "    main(train_file, dev_file, config)\n"
   ]
  },
  {
   "cell_type": "code",
   "execution_count": 2,
   "metadata": {},
   "outputs": [
    {
     "ename": "NameError",
     "evalue": "name 'CharNetConfig' is not defined",
     "output_type": "error",
     "traceback": [
      "\u001b[0;31m----------------------------------------------------------------\u001b[0m",
      "\u001b[0;31mNameError\u001b[0m                      Traceback (most recent call last)",
      "\u001b[0;32m<ipython-input-2-0b03dc0bc574>\u001b[0m in \u001b[0;36m<module>\u001b[0;34m()\u001b[0m\n\u001b[1;32m      1\u001b[0m \u001b[0mtrain_file\u001b[0m \u001b[0;34m=\u001b[0m \u001b[0;34m'./train.tsv'\u001b[0m\u001b[0;34m\u001b[0m\u001b[0m\n\u001b[1;32m      2\u001b[0m \u001b[0mdev_file\u001b[0m \u001b[0;34m=\u001b[0m \u001b[0;34m'./test.tsv'\u001b[0m\u001b[0;34m\u001b[0m\u001b[0m\n\u001b[0;32m----> 3\u001b[0;31m \u001b[0mconfig\u001b[0m \u001b[0;34m=\u001b[0m \u001b[0mCharNetConfig\u001b[0m\u001b[0;34m(\u001b[0m\u001b[0;34m)\u001b[0m\u001b[0;34m\u001b[0m\u001b[0m\n\u001b[0m\u001b[1;32m      4\u001b[0m \u001b[0mmain\u001b[0m\u001b[0;34m(\u001b[0m\u001b[0mtrain_file\u001b[0m\u001b[0;34m,\u001b[0m \u001b[0mdev_file\u001b[0m\u001b[0;34m,\u001b[0m \u001b[0mconfig\u001b[0m\u001b[0;34m)\u001b[0m\u001b[0;34m\u001b[0m\u001b[0m\n",
      "\u001b[0;31mNameError\u001b[0m: name 'CharNetConfig' is not defined"
     ]
    }
   ],
   "source": [
    "train_file = './train.tsv'\n",
    "dev_file = './test.tsv'\n",
    "config = CharNetConfig()\n",
    "main(train_file, dev_file, config)"
   ]
  },
  {
   "cell_type": "code",
   "execution_count": null,
   "metadata": {
    "collapsed": true
   },
   "outputs": [],
   "source": []
  }
 ],
 "metadata": {
  "kernelspec": {
   "display_name": "Python 3",
   "language": "python",
   "name": "python3"
  },
  "language_info": {
   "codemirror_mode": {
    "name": "ipython",
    "version": 3
   },
   "file_extension": ".py",
   "mimetype": "text/x-python",
   "name": "python",
   "nbconvert_exporter": "python",
   "pygments_lexer": "ipython3",
   "version": "3.6.3"
  }
 },
 "nbformat": 4,
 "nbformat_minor": 2
}
